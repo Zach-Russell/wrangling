{
  "cells": [
    {
      "cell_type": "markdown",
      "id": "13ad028b-72b7-43ed-aa78-96fd4e518040",
      "metadata": {
        "id": "13ad028b-72b7-43ed-aa78-96fd4e518040"
      },
      "source": [
        "# Assignment: Data Wrangling\n",
        "## `! git clone https://github.com/DS3001/wrangling`"
      ]
    },
    {
      "cell_type": "markdown",
      "id": "5735a4d4-8be8-433a-a351-70eb8002e632",
      "metadata": {
        "id": "5735a4d4-8be8-433a-a351-70eb8002e632"
      },
      "source": [
        "**Q1.** Open the \"tidy_data.pdf\" document in the repo, which is a paper called Tidy Data by Hadley Wickham.\n",
        "\n",
        "  1. Read the abstract. What is this paper about?\n",
        "  2. Read the introduction. What is the \"tidy data standard\" intended to accomplish?\n",
        "  3. Read the intro to section 2. What does this sentence mean: \"Like families, tidy datasets are all alike but every messy dataset is messy in its own way.\" What does this sentence mean: \"For a given dataset, it’s usually easy to figure out what are observations and what are variables, but it is surprisingly difficult to precisely define variables and observations in general.\"\n",
        "  4. Read Section 2.2. How does Wickham define values, variables, and observations?\n",
        "  5. How is \"Tidy Data\" defined in section 2.3?\n",
        "  6. Read the intro to Section 3 and Section 3.1. What are the 5 most common problems with messy datasets? Why are the data in Table 4 messy? What is \"melting\" a dataset?\n",
        "  7. Why, specifically, is table 11 messy but table 12 tidy and \"molten\"?\n",
        "  8. Read Section 6. What is the \"chicken-and-egg\" problem with focusing on tidy data? What does Wickham hope happens in the future with further work on the subject of data wrangling?"
      ]
    },
    {
      "cell_type": "markdown",
      "id": "c9650fc2",
      "metadata": {},
      "source": [
        "ANSWERS:\n",
        "\n",
        "1. From the abstract, this paper seems to be about data cleaning, especially the theoretical side of this process. The concept of cleanliness is being refered to as \"Tidyness\" and the author mentions the creation of tools for this.\n",
        "\n",
        "2. The purpose of the tidy data standard is to be a standard process for data cleaning. The author bases its principles from their own experience in the field and does so in a way to help with analysis.\n",
        "\n",
        "3. For the first sentence, messy datasets haven't been standardized and therefore have their own unique randomness. This is opposite to tidy data, which behaves similarly since it has been structured to be similar. The second sentence references how defining data might be obvious to the creator but not so much to others that may read it. Therefore, it is important to define things when possible, and also to not always assume the obvious.\n",
        "\n",
        "4. Values are quantitative things like numbers or qualatative things like strings. Variables contain values which measure attributes (height, temperature, time, etc.). Observations are all values measured in the same unit across attributes.\n",
        "\n",
        "5. Tidy data is when each variable forms a column, each observation forms a row, and each observational unit forms a table.\n",
        "\n",
        "6. There are five common problems with messy datasets: column headers are values, multiple values are in one column, variables are stored in both rows and columns, multiple types of observational units in one table, and a single observational unit is stored within multiple tables. The issue with Table 4 is that income is used but the heading should be a title and not the numbers themselves. Melting, or stacking, is turning columns into rows. \n",
        "\n",
        "7. Table 11 is messy because it has days (d1 ... dn) at the top, but these are values and shouldn't each have separate columns. Table 12 is molten because these days are stacked into the data variable, but the element variable has both tmax and tmin when these should be separated.\n",
        "\n",
        "8. Data cleaning is important but should be studyed more in depth. Wickham hopes that this leads to more set/standardized principles in the field for data cleaning, which will be useful to everyone."
      ]
    },
    {
      "cell_type": "markdown",
      "id": "da879ea7-8aac-48a3-b6c2-daea56d2e072",
      "metadata": {
        "id": "da879ea7-8aac-48a3-b6c2-daea56d2e072"
      },
      "source": [
        "**Q2.** This question provides some practice cleaning variables which have common problems.\n",
        "1. Numeric variable: For `./data/airbnb_hw.csv`, clean the `Price` variable as well as you can, and explain the choices you make. How many missing values do you end up with? (Hint: What happens to the formatting when a price goes over 999 dollars, say from 675 to 1,112?)\n",
        "2. Categorical variable: For the `./data/sharks.csv` data covered in the lecture, clean the \"Type\" variable as well as you can, and explain the choices you make.\n",
        "3. Dummy variable: For the pretrial data covered in the lecture, clean the `WhetherDefendantWasReleasedPretrial` variable as well as you can, and, in particular, replace missing values with `np.nan`.\n",
        "4. Missing values, not at random: For the pretrial data covered in the lecture, clean the `ImposedSentenceAllChargeInContactEvent` variable as well as you can, and explain the choices you make. (Hint: Look at the `SentenceTypeAllChargesAtConvictionInContactEvent` variable.)"
      ]
    },
    {
      "cell_type": "markdown",
      "id": "39ca5fd2",
      "metadata": {},
      "source": [
        "ANSWERS:\n",
        "\n",
        "1."
      ]
    },
    {
      "cell_type": "code",
      "execution_count": 46,
      "id": "05da3a3c",
      "metadata": {},
      "outputs": [],
      "source": [
        "import pandas as pd\n",
        "import numpy as np"
      ]
    },
    {
      "cell_type": "code",
      "execution_count": 47,
      "id": "760b0eef",
      "metadata": {},
      "outputs": [
        {
          "name": "stdout",
          "output_type": "stream",
          "text": [
            "There are 0 missing values\n"
          ]
        },
        {
          "data": {
            "text/plain": [
              "array([  145,    37,    28,   199,   549,   149,   250,    90,   270,\n",
              "         290,   170,    59,    49,    68,   285,    75,   100,   150,\n",
              "         700,   125,   175,    40,    89,    95,    99,   499,   120,\n",
              "          79,   110,   180,   143,   230,   350,   135,    85,    60,\n",
              "          70,    55,    44,   200,   165,   115,    74,    84,   129,\n",
              "          50,   185,    80,   190,   140,    45,    65,   225,   600,\n",
              "         109,  1990,    73,   240,    72,   105,   155,   160,    42,\n",
              "         132,   117,   295,   280,   159,   107,    69,   239,   220,\n",
              "         399,   130,   375,   585,   275,   139,   260,    35,   133,\n",
              "         300,   289,   179,    98,   195,    29,    27,    39,   249,\n",
              "         192,   142,   169,  1000,   131,   138,   113,   122,   329,\n",
              "         101,   475,   238,   272,   308,   126,   235,   315,   248,\n",
              "         128,    56,   207,   450,   215,   210,   385,   445,   136,\n",
              "         247,   118,    77,    76,    92,   198,   205,   299,   222,\n",
              "         245,   104,   153,   349,   114,   320,   292,   226,   420,\n",
              "         500,   325,   307,    78,   265,   108,   123,   189,    32,\n",
              "          58,    86,   219,   800,   335,    63,   229,   425,    67,\n",
              "          87,  1200,   158,   650,   234,   310,   695,   400,   166,\n",
              "         119,    62,   168,   340,   479,    43,   395,   144,    52,\n",
              "          47,   529,   187,   209,   233,    82,   269,   163,   172,\n",
              "         305,   156,   550,   435,   137,   124,    48,   279,   330,\n",
              "        5000,   134,   378,    97,   277,    64,   193,   147,   186,\n",
              "         264,    30,  3000,   112,    94,   379,    57,   415,   236,\n",
              "         410,   214,    88,    66,    71,   171,   157,   545,  1500,\n",
              "          83,    96,  1800,    81,   188,   380,   255,   505,    54,\n",
              "          33,   174,    93,   740,   640,  1300,   440,   599,   357,\n",
              "        1239,   495,   127,  5999,   178,   348,   152,   242,   183,\n",
              "         253,   750,   259,   365,   273,   197,   397,   103,   389,\n",
              "         355,   559,    38,   203,   999,   141,   162,   333,   698,\n",
              "          46,   360,   895,    10,    41,   206,   281,   449,   388,\n",
              "         212,   102,   201,  2750,  4750,   432,   675,   167,   390,\n",
              "         298,   339,   194,   302,   211,   595,   191,    53,   361,\n",
              "         480,  8000,  4500,   459,   997,   345,   216,   218,   111,\n",
              "         735,   276,    91,   490,   850,   398,    36,   775,   267,\n",
              "         625,   336,  2500,   176,   725,  3750,   469,   106,   460,\n",
              "         287,   575,   227,   263,    25,   228,   208,   177,   880,\n",
              "         148,   116,   685,   470,   217,   164,    61,   645,   699,\n",
              "         405,   252,   319,   268,   419,   343,   525,   311,   840,\n",
              "         154,   294,   950,   409,   184,   257,   204,   241,  2000,\n",
              "         412,   121,   288,   196,   900,   647,   524,  1750,   309,\n",
              "         510,  1495,  1700,   799,   383,   372,   492,   327,  1999,\n",
              "         656,   224,   173,   875,  1170,   795,   690,   146,   465,\n",
              "        1100,   151,   274,   429,   825,   282,   256,  1111,   620,\n",
              "         271,   161,    51,   855,   579,  1174,   430,    20,   899,\n",
              "         649,   485,   181,   455,  4000,   243,   342,   590,   560,\n",
              "         374,   437,   232,   359,   985,    31,   244,   254,   723,\n",
              "         237,   428,   370,    34,  1400,   580,  2520,   221,   749,\n",
              "        1600,  2695,   306,   202,   680,   570,   520,   223,  2295,\n",
              "         213,  1065,   346,    24,   286,   296,   266,    26,   995,\n",
              "        1368,   393,   182,   635,   258,   780,   589,   347,  1250,\n",
              "        1350,   446,  3200,  1050,  1650,  1550,   975,   323,  6500,\n",
              "        2499,  1850,  2250,   715,   461,   540,   356,   439,   384,\n",
              "         569,  1900,    22,   785,   626,   830,   318,   444,   321,\n",
              "         401,  1499,   888,   369,   770,   386,   366,   344,   630,\n",
              "         313,   597,   262,   509, 10000,   278,   312,   789,  1195,\n",
              "         422,    21,   765,  3500,   945,   326,  3100,  2486,  3390,\n",
              "        1356,  2599,   472,   454,   328,   396,   291], dtype=int64)"
            ]
          },
          "execution_count": 47,
          "metadata": {},
          "output_type": "execute_result"
        }
      ],
      "source": [
        "df = pd.read_csv('./data/airbnb_hw.csv', low_memory=False)\n",
        "df.head()\n",
        "\n",
        "p = df['Price']\n",
        "p.unique()\n",
        "\n",
        "p = p.str.replace(',','')\n",
        "p = pd.to_numeric(p,errors='coerce')\n",
        "\n",
        "\n",
        "missingData = sum(p.isnull())\n",
        "print(\"There are\", missingData, \"missing values\")\n",
        "p.unique()"
      ]
    },
    {
      "cell_type": "markdown",
      "id": "dbc902bc",
      "metadata": {},
      "source": [
        "It appears that the values are strings and numbers over 999 have commas within them. After removing the commas and turning the values into numerics, we found 0 missing values."
      ]
    },
    {
      "cell_type": "markdown",
      "id": "3379c4af",
      "metadata": {},
      "source": [
        "2. "
      ]
    },
    {
      "cell_type": "code",
      "execution_count": 48,
      "id": "323a696e",
      "metadata": {},
      "outputs": [],
      "source": [
        "df = pd.read_csv('./data/sharks.csv', low_memory=False)"
      ]
    },
    {
      "cell_type": "code",
      "execution_count": 49,
      "id": "dd342afc",
      "metadata": {},
      "outputs": [
        {
          "data": {
            "text/plain": [
              "Type\n",
              "Unprovoked             4716\n",
              "Provoked                593\n",
              "Invalid                 552\n",
              "Sea Disaster            239\n",
              "Watercraft              142\n",
              "Boat                    109\n",
              "Boating                  92\n",
              "Questionable             10\n",
              "Unconfirmed               1\n",
              "Unverified                1\n",
              "Under investigation       1\n",
              "Boatomg                   1\n",
              "Name: count, dtype: int64"
            ]
          },
          "execution_count": 49,
          "metadata": {},
          "output_type": "execute_result"
        }
      ],
      "source": [
        "type = df['Type']\n",
        "df['Type'].value_counts()"
      ]
    },
    {
      "cell_type": "code",
      "execution_count": 50,
      "id": "a9e90f83",
      "metadata": {},
      "outputs": [
        {
          "data": {
            "text/plain": [
              "Type\n",
              "Unprovoked    4716\n",
              "Provoked       593\n",
              "Watercraft     583\n",
              "Name: count, dtype: int64"
            ]
          },
          "execution_count": 50,
          "metadata": {},
          "output_type": "execute_result"
        }
      ],
      "source": [
        "type = df['Type']\n",
        "type = type.replace(['Sea Disaster', 'Boat', 'Boating', 'Boatomg'],'Watercraft')\n",
        "\n",
        "\n",
        "type = type.replace(['Invalid', 'Questionable','Unconfirmed','Unverified','Under investigation'],np.nan)\n",
        "type.value_counts()\n",
        "\n",
        "df['Type'] = type\n",
        "df['Type'].value_counts()"
      ]
    },
    {
      "cell_type": "markdown",
      "id": "253b35b3",
      "metadata": {},
      "source": [
        "The various different types of accidents were condensed into better categories. Specifically, all boat/ship related accidents were put into Watercraft, and values that were missing or uncertain were labeled as NaN."
      ]
    },
    {
      "cell_type": "markdown",
      "id": "156de1b6",
      "metadata": {},
      "source": [
        "3. "
      ]
    },
    {
      "cell_type": "code",
      "execution_count": 58,
      "id": "7ec08e45",
      "metadata": {},
      "outputs": [],
      "source": [
        "df = pd.read_csv('./data/October 2017 Cohort_Virginia Pretrial Data Project_Deidentified FINAL Update_10272021.csv', low_memory=False)"
      ]
    },
    {
      "cell_type": "code",
      "execution_count": 61,
      "id": "36674be4",
      "metadata": {},
      "outputs": [
        {
          "name": "stdout",
          "output_type": "stream",
          "text": [
            "[nan  0.  1.] \n",
            "\n",
            "WhetherDefendantWasReleasedPretrial\n",
            "1.0    19154\n",
            "0.0     3801\n",
            "Name: count, dtype: int64 \n",
            "\n",
            "WhetherDefendantWasReleasedPretrial\n",
            "1.0    19154\n",
            "0.0     3801\n",
            "Name: count, dtype: int64 \n",
            "\n",
            "Missing values = 31\n"
          ]
        }
      ],
      "source": [
        "release = df['WhetherDefendantWasReleasedPretrial']\n",
        "print(release.unique(),'\\n')\n",
        "print(release.value_counts(),'\\n')\n",
        "\n",
        "#9 is used for unclear outcomes, we want to replace them with NaN\n",
        "release = release.replace(9, np.nan)\n",
        "\n",
        "#print out what the values are now\n",
        "print(release.value_counts(),'\\n')\n",
        "\n",
        "#print out the number of missing values\n",
        "print(\"Missing values =\", sum(release.isnull()))\n",
        "\n",
        "#update the dataframe and delete temp variable\n",
        "df['WhetherDefendantWasReleasedPretrial'] = release\n",
        "del release\n",
        "\n"
      ]
    },
    {
      "cell_type": "markdown",
      "id": "dbd45d72",
      "metadata": {},
      "source": [
        "4."
      ]
    },
    {
      "cell_type": "code",
      "execution_count": 43,
      "id": "b83b24ce",
      "metadata": {},
      "outputs": [
        {
          "name": "stdout",
          "output_type": "stream",
          "text": [
            "9053 \n",
            "\n",
            "SentenceTypeAllChargesAtConvictionInContactEvent     0     1    2     4    9\n",
            "ImposedSentenceAllChargeInContactEvent                                      \n",
            "False                                             8720  4299  914     0    0\n",
            "True                                                 0     0    0  8779  274 \n",
            "\n",
            "SentenceTypeAllChargesAtConvictionInContactEvent     0     1    2     4    9\n",
            "ImposedSentenceAllChargeInContactEvent                                      \n",
            "False                                             8720  4299  914  8779    0\n",
            "True                                                 0     0    0     0  274 \n",
            "\n",
            "274 \n",
            "\n"
          ]
        }
      ],
      "source": [
        "#grab length column\n",
        "length = df['ImposedSentenceAllChargeInContactEvent']\n",
        "\n",
        "#grab type column\n",
        "type = df['SentenceTypeAllChargesAtConvictionInContactEvent']\n",
        "\n",
        "#convert length values from string to numeric\n",
        "length = pd.to_numeric(length,errors='coerce')\n",
        "\n",
        "#grab NaN values from length and display\n",
        "length_NA = length.isnull()\n",
        "print( np.sum(length_NA),'\\n')\n",
        "\n",
        "print( pd.crosstab(length_NA, type), '\\n')\n",
        "\n",
        "#if the type is 4, then there was no length since the charges were dropped (it was 0)\n",
        "length = length.mask( type == 4, 0)\n",
        "\n",
        "#if the type is 9 (unclear), replace with NaN\n",
        "length = length.mask( type == 9, np.nan)\n",
        "\n",
        "#collect the missing values and display the new information\n",
        "length_NA = length.isnull()\n",
        "print( pd.crosstab(length_NA, type), '\\n')\n",
        "print( np.sum(length_NA),'\\n')\n",
        "\n",
        "#update the dataframe and remove temporary variables\n",
        "df['ImposedSentenceAllChargeInContactEvent'] = length\n",
        "del length, type"
      ]
    },
    {
      "cell_type": "markdown",
      "id": "649494cd-cfd6-4f80-992a-9994fc19e1d5",
      "metadata": {
        "id": "649494cd-cfd6-4f80-992a-9994fc19e1d5"
      },
      "source": [
        "**Q3.** Many important datasets contain a race variable, typically limited to a handful of values often including Black, White, Asian, Latino, and Indigenous. This question looks at data gathering efforts on this variable by the U.S. Federal government.\n",
        "\n",
        "1. How did the most recent US Census gather data on race?\n",
        "2. Why do we gather these data? What role do these kinds of data play in politics and society? Why does data quality matter?\n",
        "3. Please provide a constructive criticism of how the Census was conducted: What was done well? What do you think was missing? How should future large scale surveys be adjusted to best reflect the diversity of the population? Could some of the Census' good practices be adopted more widely to gather richer and more useful data?\n",
        "4. How did the Census gather data on sex and gender? Please provide a similar constructive criticism of their practices.\n",
        "5. When it comes to cleaning data, what concerns do you have about protected characteristics like sex, gender, sexual identity, or race? What challenges can you imagine arising when there are missing values? What good or bad practices might people adopt, and why?\n",
        "6. Suppose someone invented an algorithm to impute values for protected characteristics like race, gender, sex, or sexuality. What kinds of concerns would you have?"
      ]
    }
  ],
  "metadata": {
    "colab": {
      "provenance": []
    },
    "kernelspec": {
      "display_name": "Python 3 (ipykernel)",
      "language": "python",
      "name": "python3"
    },
    "language_info": {
      "codemirror_mode": {
        "name": "ipython",
        "version": 3
      },
      "file_extension": ".py",
      "mimetype": "text/x-python",
      "name": "python",
      "nbconvert_exporter": "python",
      "pygments_lexer": "ipython3",
      "version": "3.10.4"
    }
  },
  "nbformat": 4,
  "nbformat_minor": 5
}
